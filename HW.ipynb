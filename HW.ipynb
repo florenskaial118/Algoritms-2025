{
 "cells": [
  {
   "cell_type": "markdown",
   "id": "a4092f4a",
   "metadata": {},
   "source": [
    "# Задача 1. Сделать реверс односвзяного списка.\n",
    "\n",
    "*Пример: \n",
    "Входные данные: 1, 2, 3, 4, 5. \n",
    "Результат: 5, 4, 3, 2, 1*\n"
   ]
  },
  {
   "cell_type": "code",
   "execution_count": null,
   "id": "1ee21b2f",
   "metadata": {},
   "outputs": [],
   "source": [
    "class Node():\n",
    "    def __init__(self, data):\n",
    "        self.data = data\n",
    "        self.next = None\n",
    "        \n",
    "class linked_list():\n",
    "    def __init__(self):\n",
    "        self.header = None\n",
    "\n",
    "    def append_node(self, data):\n",
    "        if self.header :\n",
    "            cur_node = self.header\n",
    "            while cur_node.next:\n",
    "                cur_node = cur_node.next\n",
    "            cur_node.next = Node(data)\n",
    "        else:\n",
    "            self.header = Node(data)\n",
    "    \n",
    "    def print_list(self):\n",
    "        curr = self.header\n",
    "        while curr:\n",
    "            print(curr.data, end=\" -> \")\n",
    "            curr = curr.next\n",
    "        print('end')\n",
    "# затраты по памяти - константа O(1)\n",
    "# оценка сложности - O(n)\n",
    "    def reverse_list(self):\n",
    "        prev = None\n",
    "        curr = self.header\n",
    "        while curr and curr.next:\n",
    "            next = curr.next\n",
    "            curr.next = prev\n",
    "            prev = curr\n",
    "            curr = next\n",
    "        self.header = curr\n",
    "        self.header.next = prev"
   ]
  },
  {
   "cell_type": "code",
   "execution_count": 72,
   "id": "7e62cdaa",
   "metadata": {},
   "outputs": [
    {
     "name": "stdout",
     "output_type": "stream",
     "text": [
      "5 -> 55 -> 355 -> end\n",
      "355 -> 55 -> 5 -> end\n"
     ]
    }
   ],
   "source": [
    "a = linked_list()\n",
    "a.append_node(5)\n",
    "a.append_node(55)\n",
    "a.append_node(355)\n",
    "a.print_list()\n",
    "a.reverse_list()\n",
    "a.print_list()"
   ]
  }
 ],
 "metadata": {
  "kernelspec": {
   "display_name": "py3_study",
   "language": "python",
   "name": "python3"
  },
  "language_info": {
   "codemirror_mode": {
    "name": "ipython",
    "version": 3
   },
   "file_extension": ".py",
   "mimetype": "text/x-python",
   "name": "python",
   "nbconvert_exporter": "python",
   "pygments_lexer": "ipython3",
   "version": "3.9.18"
  }
 },
 "nbformat": 4,
 "nbformat_minor": 5
}
